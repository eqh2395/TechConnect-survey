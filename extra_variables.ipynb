{
 "cells": [
  {
   "cell_type": "code",
   "execution_count": 1,
   "metadata": {},
   "outputs": [
    {
     "name": "stdout",
     "output_type": "stream",
     "text": [
      "Solving environment: done\n",
      "\n",
      "\n",
      "==> WARNING: A newer version of conda exists. <==\n",
      "  current version: 4.5.4\n",
      "  latest version: 4.5.8\n",
      "\n",
      "Please update conda by running\n",
      "\n",
      "    $ conda update -n base conda\n",
      "\n",
      "\n",
      "\n",
      "## Package Plan ##\n",
      "\n",
      "  environment location: /opt/conda\n",
      "\n",
      "  added / updated specs: \n",
      "    - pandas\n",
      "\n",
      "\n",
      "The following packages will be downloaded:\n",
      "\n",
      "    package                    |            build\n",
      "    ---------------------------|-----------------\n",
      "    pandas-0.23.3              |   py36hf8a1672_1        27.8 MB  conda-forge\n",
      "\n",
      "The following packages will be UPDATED:\n",
      "\n",
      "    pandas: 0.23.1-py36h637b7d7_0 defaults --> 0.23.3-py36hf8a1672_1 conda-forge\n",
      "\n",
      "\n",
      "Downloading and Extracting Packages\n",
      "pandas-0.23.3        | 27.8 MB | ####################################### | 100% \n",
      "Preparing transaction: done\n",
      "Verifying transaction: done\n",
      "Executing transaction: done\n"
     ]
    }
   ],
   "source": [
    "!conda update pandas -y"
   ]
  },
  {
   "cell_type": "code",
   "execution_count": 1,
   "metadata": {},
   "outputs": [],
   "source": [
    "# Import things and run data file"
   ]
  },
  {
   "cell_type": "code",
   "execution_count": 2,
   "metadata": {},
   "outputs": [],
   "source": [
    "import pandas as pd\n",
    "from pandas import ExcelWriter\n",
    "from pandas import ExcelFile\n",
    "import matplotlib.pyplot as plt\n",
    "import numpy as np\n",
    "dfs = pd.ExcelFile(\"raw_survey_data.xlsx\")"
   ]
  },
  {
   "cell_type": "code",
   "execution_count": 3,
   "metadata": {},
   "outputs": [],
   "source": [
    "dfs = dfs.parse()"
   ]
  },
  {
   "cell_type": "code",
   "execution_count": 4,
   "metadata": {},
   "outputs": [],
   "source": [
    "# Getting the extra variables only"
   ]
  },
  {
   "cell_type": "code",
   "execution_count": 5,
   "metadata": {},
   "outputs": [],
   "source": [
    "extra_variables = dfs.iloc[:,-65:-1]"
   ]
  },
  {
   "cell_type": "code",
   "execution_count": 6,
   "metadata": {},
   "outputs": [],
   "source": [
    "IV = dfs.iloc[:,14:17]"
   ]
  },
  {
   "cell_type": "code",
   "execution_count": 7,
   "metadata": {},
   "outputs": [],
   "source": [
    "IVandDV = pd.concat([IV, extra_variables], axis=1, join_axes=[IV.index])"
   ]
  },
  {
   "cell_type": "code",
   "execution_count": 8,
   "metadata": {},
   "outputs": [],
   "source": [
    "# Clone the data"
   ]
  },
  {
   "cell_type": "code",
   "execution_count": 9,
   "metadata": {},
   "outputs": [],
   "source": [
    "Newdf = IVandDV.copy()\n",
    "Newdf = Newdf.apply(lambda x: x.astype(str).str.lower())"
   ]
  },
  {
   "cell_type": "code",
   "execution_count": 10,
   "metadata": {},
   "outputs": [],
   "source": [
    "# Grouping technology together"
   ]
  },
  {
   "cell_type": "code",
   "execution_count": 11,
   "metadata": {},
   "outputs": [],
   "source": [
    "Department = Newdf.iloc[:,0]"
   ]
  },
  {
   "cell_type": "code",
   "execution_count": 12,
   "metadata": {},
   "outputs": [],
   "source": [
    "Department = Department.replace(\"technolgy\",\"technology\")\n",
    "Department = Department.replace(\"tis\",\"technology\")\n",
    "Department = Department.replace(\"technology/solutions delivery/web apps\",\"technology\")\n",
    "Department = Department.replace(\"solutions delivery\",\"technology\")\n",
    "Department = Department.replace(\"technology and obs\",\"technology\")\n",
    "Department = Department.replace(\"office of the cio\",\"technology\")\n",
    "Department = Department.replace(\"i&o\",\"technology\")\n",
    "Department = Department.replace(\"technology in product creation\",\"technology\")\n",
    "Department = Department.replace(\"solutions delivery, technology information services\",\"technology\")\n",
    "Department = Department.replace(\"technology -> government services\",\"technology\")\n",
    "Department = Department.replace(\"operations\",\"technology\")"
   ]
  },
  {
   "cell_type": "code",
   "execution_count": 13,
   "metadata": {},
   "outputs": [],
   "source": [
    "# Grouping science together"
   ]
  },
  {
   "cell_type": "code",
   "execution_count": 14,
   "metadata": {},
   "outputs": [],
   "source": [
    "Department = Department.replace(\"climate science\",\"science\")\n",
    "Department = Department.replace(\"weather science it\",\"science\")\n",
    "Department = Department.replace(\"obs r&d\",\"science\")\n",
    "Department = Department.replace(\"applied science\",\"science\")"
   ]
  },
  {
   "cell_type": "code",
   "execution_count": 15,
   "metadata": {},
   "outputs": [],
   "source": [
    "# Grouping rest together"
   ]
  },
  {
   "cell_type": "code",
   "execution_count": 16,
   "metadata": {},
   "outputs": [],
   "source": [
    "Department = Department.replace(\"business group\",\"other\")\n",
    "Department = Department.replace(\"cfo\",\"other\")"
   ]
  },
  {
   "cell_type": "code",
   "execution_count": 17,
   "metadata": {},
   "outputs": [],
   "source": [
    "departments = ['technology', 'science', 'other']\n",
    "maindepartments = ['technology', 'science']"
   ]
  },
  {
   "cell_type": "code",
   "execution_count": 18,
   "metadata": {},
   "outputs": [],
   "source": [
    "#Zipping it back\n",
    "Newdf['1 : Where do you work within the Met Office hierarchy? - What department do you work in (eg. Technology, Science)?'] = Department"
   ]
  },
  {
   "cell_type": "code",
   "execution_count": 19,
   "metadata": {},
   "outputs": [],
   "source": [
    "# Cleaning the team variable"
   ]
  },
  {
   "cell_type": "code",
   "execution_count": 20,
   "metadata": {},
   "outputs": [],
   "source": [
    "Newdf = Newdf.replace(['netowrk services', 'networks services'], 'network services')\n",
    "Newdf = Newdf.replace(['security testing', 'cyber, security and resilience - business continuity', 'cyber security and resilience'], 'security')\n",
    "Newdf = Newdf.replace(['solutions delivery - data services', 'solutions delivery > government services', 'government technology', 'defence'], 'solutions delivery')\n",
    "Newdf = Newdf.replace(['ccc', 'cloud  capability', 'cloud capabilities', 'cloud capability catalogue - arcus squad', 'cloud capability', 'i & oforecasting applications support', 'i&o', 'i&o architecture', 'i&o cloud capability', 'infrastructure', 'network services', 'underpinning capability'], 'infrastructure and operations')\n",
    "Newdf = Newdf.replace('cloud ops', 'cloudops')\n",
    "Newdf = Newdf.replace('obs', 'observations')\n",
    "Newdf = Newdf.replace('the informatics lab', 'informatics lab')\n",
    "Newdf = Newdf.replace(['tis - data services', 'data services', 'aardwolf', 'awesome', 'rru', 'alchemy', 'geoapps', 'geospatial applications - kraken squad', 'moose', 'metdb', 'plans and performance', 'avd (analysis, visualisation and data)', 'avd', 'avd (within tis)', 'analysis, visualisation and data', 'broadcast graphics team'], 'technology and information service')\n",
    "Newdf = Newdf.replace(['hpc & collaboration', 'hpc team'], 'high performance computing')"
   ]
  },
  {
   "cell_type": "code",
   "execution_count": 21,
   "metadata": {},
   "outputs": [],
   "source": [
    "Newdf = Newdf.replace(['climate', 'climate information for international development', 'climate science it (data delivery)', 'understanding climate change', 'mdvp operational systems', 'it apps', 'crum'], 'climate science')\n",
    "Newdf = Newdf.replace(['hpc optimisation team', 'hpc optimisation'], 'high performance computing optimisation')\n",
    "Newdf = Newdf.replace(['vipp', 'weather science verification, impacts, and post-processing - specifically, post-processing and verification systems', 'verification, impacts and post-processing', 'weather science it', 'modelling infrastructure support systems a.k.a. fcm, rose, cylc, team', 'satellite applications', 'convective-scale data assimilation and ensembles'], 'weather science')\n",
    "Newdf = Newdf.replace(['sferics', 'atmospheric processes and parameterizations'], 'atmostpheric science')\n",
    "Newdf = Newdf.replace(['met research unit / obr / foundation science', 'ofrd'], 'other' )"
   ]
  },
  {
   "cell_type": "code",
   "execution_count": 22,
   "metadata": {},
   "outputs": [
    {
     "data": {
      "text/plain": [
       "['1 : Where do you work within the Met Office hierarchy? - What department do you work in (eg. Technology, Science)?',\n",
       " '2 : Where do you work within the Met Office hierarchy? - What team do you work in within that department?',\n",
       " '3 : What is your job role within the team?',\n",
       " '21 : Do you work with technology as a hobby outside work?',\n",
       " '22 : For how many years have you worked in your current role?',\n",
       " '23 : Have you worked in similar roles before this?  If so for how many years?',\n",
       " '24 : Are you currently a student (including PhD, part time and apprenticeships)?',\n",
       " '25 : What is your highest level of academic qualification?',\n",
       " '25 : What is your highest level of academic qualification?Other, please specify comment',\n",
       " '26 : If you have a degree, what was your specialism? In cases of multiple degrees, multiple answers may be selected. Computer science, computer engineering, or software engineering',\n",
       " '26 : If you have a degree, what was your specialism? In cases of multiple degrees, multiple answers may be selected. Another engineering discipline (eg. civil, electrical, mechanical)',\n",
       " '26 : If you have a degree, what was your specialism? In cases of multiple degrees, multiple answers may be selected. Information systems, information technology, or system administration',\n",
       " '26 : If you have a degree, what was your specialism? In cases of multiple degrees, multiple answers may be selected. A natural science (eg. biology, chemistry, physics)',\n",
       " '26 : If you have a degree, what was your specialism? In cases of multiple degrees, multiple answers may be selected. Mathematics or statistics',\n",
       " '26 : If you have a degree, what was your specialism? In cases of multiple degrees, multiple answers may be selected. Web development or web design',\n",
       " '26 : If you have a degree, what was your specialism? In cases of multiple degrees, multiple answers may be selected. A business discipline (eg. accounting, finance, marketing)',\n",
       " '26 : If you have a degree, what was your specialism? In cases of multiple degrees, multiple answers may be selected. Communications and media',\n",
       " '26 : If you have a degree, what was your specialism? In cases of multiple degrees, multiple answers may be selected. A humanities discipline (eg. literature, history, philosophy)',\n",
       " '26 : If you have a degree, what was your specialism? In cases of multiple degrees, multiple answers may be selected. A social science (eg. anthropology, sociology)',\n",
       " '26 : If you have a degree, what was your specialism? In cases of multiple degrees, multiple answers may be selected. Fine arts or performing arts (eg. graphic design, music, studio art)',\n",
       " '26 : If you have a degree, what was your specialism? In cases of multiple degrees, multiple answers may be selected. A health science (eg. nursing, radiology)',\n",
       " '26 : If you have a degree, what was your specialism? In cases of multiple degrees, multiple answers may be selected. I do not have a degree',\n",
       " '26 : If you have a degree, what was your specialism? In cases of multiple degrees, multiple answers may be selected. Other, please specify',\n",
       " '26 : If you have a degree, what was your specialism? In cases of multiple degrees, multiple answers may be selected. Other, please specifycomment',\n",
       " '27 : Have you taken part in any other forms of education? Taught yourself a new skill without taking a formal course',\n",
       " '27 : Have you taken part in any other forms of education? Taken an online course',\n",
       " '27 : Have you taken part in any other forms of education? Received on the job training',\n",
       " '27 : Have you taken part in any other forms of education? Taken any extracurricular in person course',\n",
       " '27 : Have you taken part in any other forms of education? Completed an industry certification programme',\n",
       " '27 : Have you taken part in any other forms of education? I have not taken part in others forms of education',\n",
       " '27 : Have you taken part in any other forms of education? Other, please specify',\n",
       " '27 : Have you taken part in any other forms of education? Other, please specifycomment',\n",
       " '28 : Do you use any of these methods to learn independently of formal training? The official documentation and/or standards for the technology',\n",
       " '28 : Do you use any of these methods to learn independently of formal training? A book or e-book',\n",
       " '28 : Do you use any of these methods to learn independently of formal training? Internal Met Office documentation or Yammer',\n",
       " '28 : Do you use any of these methods to learn independently of formal training? External online communities',\n",
       " \"28 : Do you use any of these methods to learn independently of formal training? The technology's online help system\",\n",
       " '28 : Do you use any of these methods to learn independently of formal training? Tapping your network of friends and peers versed in the technology',\n",
       " '28 : Do you use any of these methods to learn independently of formal training? Pre-scheduled tutoring or mentoring sessions with a colleague',\n",
       " \"28 : Do you use any of these methods to learn independently of formal training? I don't use methods to learn independent of formal training\",\n",
       " '28 : Do you use any of these methods to learn independently of formal training? Other, please specify',\n",
       " '28 : Do you use any of these methods to learn independently of formal training? Other, please specifycomment',\n",
       " '29 : Why would you engage in independent learning? I find it enjoyable',\n",
       " '29 : Why would you engage in independent learning? To improve my technical skills',\n",
       " '29 : Why would you engage in independent learning? To improve my knowledge of a specific technology',\n",
       " '29 : Why would you engage in independent learning? To improve my ability to work within my team',\n",
       " '29 : Why would you engage in independent learning? To build my professional network',\n",
       " '29 : Why would you engage in independent learning? To increase my opportunities at work',\n",
       " '29 : Why would you engage in independent learning? Other, please specify',\n",
       " '29 : Why would you engage in independent learning? Other, please specifycomment',\n",
       " '30 : For what reasons would you not engage in independent learning?',\n",
       " '31 : Which age bracket do you fall in?',\n",
       " '32 : How much do you agree with the following statements: I feel a sense of community with others in my industry.',\n",
       " '32 : How much do you agree with the following statements: I think of myself as competing with my peers.',\n",
       " '32 : How much do you agree with the following statements: I have less technical skill than most of my peers.',\n",
       " '32 : How much do you agree with the following statements: I feel I have the opportunity to learn new skills.',\n",
       " '32 : How much do you agree with the following statements: I think the technology I use at work is suitable for what I do.',\n",
       " '33 : How much time on average do you spend on a computer per day?',\n",
       " '34 : How much time on average do you spend outside per day?',\n",
       " '35 : How many times do you exercise on average per week?',\n",
       " '36 : How many times on average do you skip a meal to be productive per week?',\n",
       " '37 : What equipment do you use to stay comfortable whilst working? Ergonomic keyboard or mouse',\n",
       " '37 : What equipment do you use to stay comfortable whilst working? Standing desk',\n",
       " '37 : What equipment do you use to stay comfortable whilst working? Wrist/hand supports or braces',\n",
       " '37 : What equipment do you use to stay comfortable whilst working? Fatigue-relieving floor mat',\n",
       " '37 : What equipment do you use to stay comfortable whilst working? I do not use any equipment to stay comfortable whilst working',\n",
       " '37 : What equipment do you use to stay comfortable whilst working? Other, please specify']"
      ]
     },
     "execution_count": 22,
     "metadata": {},
     "output_type": "execute_result"
    }
   ],
   "source": [
    "columnlist = list(Newdf.columns.values)\n",
    "columnlist"
   ]
  },
  {
   "cell_type": "code",
   "execution_count": 23,
   "metadata": {},
   "outputs": [],
   "source": [
    "#Writing functions"
   ]
  },
  {
   "cell_type": "code",
   "execution_count": 24,
   "metadata": {},
   "outputs": [],
   "source": [
    "def valuecount_by_department(department, column):\n",
    "    countframe = pd.DataFrame(Newdf.loc[Newdf['1 : Where do you work within the Met Office hierarchy? - What department do you work in (eg. Technology, Science)?'] == department])[column].value_counts(dropna=True, sort=True).to_frame(department)\n",
    "    return countframe"
   ]
  },
  {
   "cell_type": "code",
   "execution_count": 25,
   "metadata": {},
   "outputs": [],
   "source": [
    "def plot_dataframe(dataframe, title):\n",
    "    fig = dataframe.plot.bar(grid=True, label=True, edgecolor= '#B9DC0C', linewidth=2, figsize=(15,10))\n",
    "    fig.set_facecolor('#2A2A2A')\n",
    "    plt.xlabel('Department')\n",
    "    plt.title(title)\n",
    "    plt.xticks(rotation='horizontal')\n",
    "    picturename = title + \".png\"\n",
    "    plt.savefig(fname=picturename)"
   ]
  },
  {
   "cell_type": "code",
   "execution_count": 70,
   "metadata": {},
   "outputs": [],
   "source": [
    "def plot_stacked(dataframe, title):\n",
    "    fig = dataframe.plot.bar(grid=True, stacked=True, label=True, edgecolor= '#B9DC0C', linewidth=2, figsize=(15,10))\n",
    "    fig.set_facecolor('#2A2A2A')\n",
    "    plt.title(title)\n",
    "    picturename = title + \".png\"\n",
    "    plt.savefig(fname=picturename)"
   ]
  },
  {
   "cell_type": "code",
   "execution_count": 74,
   "metadata": {},
   "outputs": [],
   "source": [
    "def plot_1way(dataframe, title):\n",
    "    fig = dataframe.plot.bar(grid=True, stacked=True, label=True, color= '#B9DC0C', figsize=(15,10), legend=False)\n",
    "    fig.set_facecolor('#2A2A2A')\n",
    "    plt.title(title)\n",
    "    picturename = title + \".png\"\n",
    "    plt.savefig(fname=picturename)"
   ]
  },
  {
   "cell_type": "code",
   "execution_count": 28,
   "metadata": {},
   "outputs": [
    {
     "data": {
      "text/html": [
       "<div>\n",
       "<style scoped>\n",
       "    .dataframe tbody tr th:only-of-type {\n",
       "        vertical-align: middle;\n",
       "    }\n",
       "\n",
       "    .dataframe tbody tr th {\n",
       "        vertical-align: top;\n",
       "    }\n",
       "\n",
       "    .dataframe thead th {\n",
       "        text-align: right;\n",
       "    }\n",
       "</style>\n",
       "<table border=\"1\" class=\"dataframe\">\n",
       "  <thead>\n",
       "    <tr style=\"text-align: right;\">\n",
       "      <th></th>\n",
       "      <th>yes</th>\n",
       "      <th>no</th>\n",
       "    </tr>\n",
       "  </thead>\n",
       "  <tbody>\n",
       "    <tr>\n",
       "      <th>technology</th>\n",
       "      <td>52</td>\n",
       "      <td>14</td>\n",
       "    </tr>\n",
       "    <tr>\n",
       "      <th>science</th>\n",
       "      <td>15</td>\n",
       "      <td>8</td>\n",
       "    </tr>\n",
       "  </tbody>\n",
       "</table>\n",
       "</div>"
      ],
      "text/plain": [
       "            yes  no\n",
       "technology   52  14\n",
       "science      15   8"
      ]
     },
     "execution_count": 28,
     "metadata": {},
     "output_type": "execute_result"
    }
   ],
   "source": [
    "technology_hobby = valuecount_by_department('technology', '21 : Do you work with technology as a hobby outside work?')\n",
    "science_hobby = valuecount_by_department('science', '21 : Do you work with technology as a hobby outside work?')\n",
    "hobby_summary = pd.concat([technology_hobby, science_hobby], axis=1)\n",
    "hobby_summary = hobby_summary.iloc[:2, :]\n",
    "hobby_summary = pd.DataFrame.transpose(hobby_summary)\n",
    "hobby_summary"
   ]
  },
  {
   "cell_type": "code",
   "execution_count": 29,
   "metadata": {},
   "outputs": [
    {
     "data": {
      "image/png": "[encoded data removed]",
      "text/plain": [
       "<Figure size 1080x720 with 1 Axes>"
      ]
     },
     "metadata": {},
     "output_type": "display_data"
    }
   ],
   "source": [
    "plot_dataframe(hobby_summary, 'Do you work with technology as a hobby outside work?')"
   ]
  },
  {
   "cell_type": "code",
   "execution_count": 30,
   "metadata": {},
   "outputs": [],
   "source": [
    "# Dealing with highest qualification"
   ]
  },
  {
   "cell_type": "code",
   "execution_count": 31,
   "metadata": {},
   "outputs": [],
   "source": [
    "other_qualification = Newdf.loc[Newdf['25 : What is your highest level of academic qualification?'] == 'other, please specify']"
   ]
  },
  {
   "cell_type": "code",
   "execution_count": 32,
   "metadata": {},
   "outputs": [],
   "source": [
    "listed_qualification = Newdf.loc[Newdf['25 : What is your highest level of academic qualification?'] != 'other, please specify']"
   ]
  },
  {
   "cell_type": "code",
   "execution_count": 33,
   "metadata": {},
   "outputs": [],
   "source": [
    "other_qualification = other_qualification.replace('higher national certificate', 'hnc')"
   ]
  },
  {
   "cell_type": "code",
   "execution_count": 34,
   "metadata": {},
   "outputs": [],
   "source": [
    "hnc = other_qualification.loc[other_qualification['25 : What is your highest level of academic qualification?Other, please specify comment'] == 'hnc']\n",
    "\n",
    "hnc = hnc.replace('other, please specify', 'higher national certificate')"
   ]
  },
  {
   "cell_type": "code",
   "execution_count": 35,
   "metadata": {},
   "outputs": [],
   "source": [
    "btec = other_qualification.loc[other_qualification['25 : What is your highest level of academic qualification?Other, please specify comment'] == 'btec']\n",
    "\n",
    "btec = btec.replace('other, please specify', 'btec')"
   ]
  },
  {
   "cell_type": "code",
   "execution_count": 36,
   "metadata": {},
   "outputs": [],
   "source": [
    "professional_qualifications = other_qualification.loc[other_qualification['25 : What is your highest level of academic qualification?Other, please specify comment'] == 'professional qualifications']\n",
    "\n",
    "professional_qualifications = professional_qualifications.replace('other, please specify', 'professional qualifications')"
   ]
  },
  {
   "cell_type": "code",
   "execution_count": 37,
   "metadata": {},
   "outputs": [],
   "source": [
    "hnd = other_qualification.loc[other_qualification['25 : What is your highest level of academic qualification?Other, please specify comment'] == 'hnd']\n",
    "\n",
    "hnd = hnd.replace('other, please specify', 'higher national diploma')"
   ]
  },
  {
   "cell_type": "code",
   "execution_count": 38,
   "metadata": {},
   "outputs": [],
   "source": [
    "Newdf = pd.concat([listed_qualification, hnc, btec, professional_qualifications, hnd])"
   ]
  },
  {
   "cell_type": "code",
   "execution_count": 39,
   "metadata": {},
   "outputs": [],
   "source": [
    "Newdf = Newdf.drop(labels = ['25 : What is your highest level of academic qualification?Other, please specify comment'], axis = 1)"
   ]
  },
  {
   "cell_type": "code",
   "execution_count": 40,
   "metadata": {},
   "outputs": [],
   "source": [
    "Newdf = Newdf.replace(['gcse/o-level', 'btec'], '1. secondary level')\n",
    "Newdf = Newdf.replace(['as/a-level', 'higher national certificate', 'higher national diploma'], '2. pre-university level')\n",
    "Newdf = Newdf.replace(\"bachelor's degree\", '3. undergraduate level')\n",
    "Newdf = Newdf.replace(\"master's degree\", \"4. postgraduate level - master's\")\n",
    "Newdf = Newdf.replace(\"doctoral degree\", \"5. postgraduate level - doctoral\")\n",
    "Newdf = Newdf.replace(\"professional qualifications\", \"6. professional qualifications\")"
   ]
  },
  {
   "cell_type": "code",
   "execution_count": 42,
   "metadata": {},
   "outputs": [
    {
     "name": "stderr",
     "output_type": "stream",
     "text": [
      "/opt/conda/lib/python3.6/site-packages/ipykernel/__main__.py:4: FutureWarning: Sorting because non-concatenation axis is not aligned. A future version\n",
      "of pandas will change to not sort by default.\n",
      "\n",
      "To accept the future behavior, pass 'sort=False'.\n",
      "\n",
      "To retain the current behavior and silence the warning, pass 'sort=True'.\n",
      "\n"
     ]
    },
    {
     "data": {
      "text/html": [
       "<div>\n",
       "<style scoped>\n",
       "    .dataframe tbody tr th:only-of-type {\n",
       "        vertical-align: middle;\n",
       "    }\n",
       "\n",
       "    .dataframe tbody tr th {\n",
       "        vertical-align: top;\n",
       "    }\n",
       "\n",
       "    .dataframe thead th {\n",
       "        text-align: right;\n",
       "    }\n",
       "</style>\n",
       "<table border=\"1\" class=\"dataframe\">\n",
       "  <thead>\n",
       "    <tr style=\"text-align: right;\">\n",
       "      <th></th>\n",
       "      <th>1. secondary level</th>\n",
       "      <th>2. pre-university level</th>\n",
       "      <th>3. undergraduate level</th>\n",
       "      <th>4. postgraduate level - master's</th>\n",
       "      <th>5. postgraduate level - doctoral</th>\n",
       "      <th>6. professional qualifications</th>\n",
       "    </tr>\n",
       "  </thead>\n",
       "  <tbody>\n",
       "    <tr>\n",
       "      <th>technology</th>\n",
       "      <td>3.0</td>\n",
       "      <td>16.0</td>\n",
       "      <td>29.0</td>\n",
       "      <td>16.0</td>\n",
       "      <td>2.0</td>\n",
       "      <td>NaN</td>\n",
       "    </tr>\n",
       "    <tr>\n",
       "      <th>science</th>\n",
       "      <td>NaN</td>\n",
       "      <td>NaN</td>\n",
       "      <td>NaN</td>\n",
       "      <td>7.0</td>\n",
       "      <td>18.0</td>\n",
       "      <td>NaN</td>\n",
       "    </tr>\n",
       "    <tr>\n",
       "      <th>other</th>\n",
       "      <td>NaN</td>\n",
       "      <td>NaN</td>\n",
       "      <td>NaN</td>\n",
       "      <td>1.0</td>\n",
       "      <td>NaN</td>\n",
       "      <td>1.0</td>\n",
       "    </tr>\n",
       "  </tbody>\n",
       "</table>\n",
       "</div>"
      ],
      "text/plain": [
       "            1. secondary level  2. pre-university level  \\\n",
       "technology                 3.0                     16.0   \n",
       "science                    NaN                      NaN   \n",
       "other                      NaN                      NaN   \n",
       "\n",
       "            3. undergraduate level  4. postgraduate level - master's  \\\n",
       "technology                    29.0                              16.0   \n",
       "science                        NaN                               7.0   \n",
       "other                          NaN                               1.0   \n",
       "\n",
       "            5. postgraduate level - doctoral  6. professional qualifications  \n",
       "technology                               2.0                             NaN  \n",
       "science                                 18.0                             NaN  \n",
       "other                                    NaN                             1.0  "
      ]
     },
     "execution_count": 42,
     "metadata": {},
     "output_type": "execute_result"
    }
   ],
   "source": [
    "technology_qualification = valuecount_by_department('technology', '25 : What is your highest level of academic qualification?')\n",
    "science_qualification = valuecount_by_department('science', '25 : What is your highest level of academic qualification?')\n",
    "others_qualification = valuecount_by_department('other', '25 : What is your highest level of academic qualification?')\n",
    "qualification_summary = pd.concat([technology_qualification, science_qualification, others_qualification], axis=1)\n",
    "qualification_summary = pd.DataFrame.transpose(qualification_summary)\n",
    "qualification_summary = qualification_summary.replace('NaN', 0)\n",
    "qualification_summary = qualification_summary.drop('nan', axis=1)\n",
    "qualification_summary"
   ]
  },
  {
   "cell_type": "code",
   "execution_count": 43,
   "metadata": {},
   "outputs": [
    {
     "data": {
      "image/png": "[encoded data removed]",
      "text/plain": [
       "<Figure size 1080x720 with 1 Axes>"
      ]
     },
     "metadata": {},
     "output_type": "display_data"
    }
   ],
   "source": [
    "plot_dataframe(qualification_summary, \"What is your highest level of academic qualification?\")"
   ]
  },
  {
   "cell_type": "code",
   "execution_count": 44,
   "metadata": {},
   "outputs": [],
   "source": [
    "# Wellbeing"
   ]
  },
  {
   "cell_type": "code",
   "execution_count": 45,
   "metadata": {},
   "outputs": [
    {
     "data": {
      "text/plain": [
       "5 - 8 hours      62\n",
       "9 - 12 hours     28\n",
       "1 - 4 hours       4\n",
       "over 12 hours     1\n",
       "Name: 33 : How much time on average do you spend on a computer per day?, dtype: int64"
      ]
     },
     "execution_count": 45,
     "metadata": {},
     "output_type": "execute_result"
    }
   ],
   "source": [
    "Newdf['33 : How much time on average do you spend on a computer per day?'].value_counts()"
   ]
  },
  {
   "cell_type": "code",
   "execution_count": 46,
   "metadata": {},
   "outputs": [],
   "source": [
    "Newdf = Newdf.replace('1 - 4 hours', 2.5)\n",
    "Newdf = Newdf.replace('5 - 8 hours', 6.5)\n",
    "Newdf = Newdf.replace('9 - 12 hours', 10.5)\n",
    "Newdf = Newdf.replace('over 12 hours', 18)"
   ]
  },
  {
   "cell_type": "code",
   "execution_count": 47,
   "metadata": {},
   "outputs": [
    {
     "data": {
      "text/plain": [
       "1 - 2 hours             41\n",
       "30 - 59 minutes         35\n",
       "less than 30 minutes    10\n",
       "3 - 4 hours              8\n",
       "nan                      1\n",
       "Name: 34 : How much time on average do you spend outside per day?, dtype: int64"
      ]
     },
     "execution_count": 47,
     "metadata": {},
     "output_type": "execute_result"
    }
   ],
   "source": [
    "Newdf['34 : How much time on average do you spend outside per day?'].value_counts()"
   ]
  },
  {
   "cell_type": "code",
   "execution_count": 48,
   "metadata": {},
   "outputs": [],
   "source": [
    "Newdf = Newdf.replace('less than 30 minutes', 0.5)\n",
    "Newdf = Newdf.replace('30 - 59 minutes', 0.75)\n",
    "Newdf = Newdf.replace('1 - 2 hours', 1.5)\n",
    "Newdf = Newdf.replace('3 - 4 hours', 3.5)"
   ]
  },
  {
   "cell_type": "code",
   "execution_count": 49,
   "metadata": {},
   "outputs": [
    {
     "data": {
      "text/plain": [
       "1 - 2 times per week          33\n",
       "3 - 4 times per week          27\n",
       "daily or almost every day     22\n",
       "i don't typically exercise     7\n",
       "1 - 2 times per month          4\n",
       "nan                            2\n",
       "Name: 35 : How many times do you exercise on average per week?, dtype: int64"
      ]
     },
     "execution_count": 49,
     "metadata": {},
     "output_type": "execute_result"
    }
   ],
   "source": [
    "Newdf['35 : How many times do you exercise on average per week?'].value_counts()"
   ]
  },
  {
   "cell_type": "code",
   "execution_count": 50,
   "metadata": {},
   "outputs": [],
   "source": [
    "Newdf = Newdf.replace([\"i don't typically exercise\", \"never\"], 0)\n",
    "Newdf = Newdf.replace(\"1 - 2 times per month\", 1)\n",
    "Newdf = Newdf.replace(\"1 - 2 times per week\", 2)\n",
    "Newdf = Newdf.replace(\"3 - 4 times per week\", 3)\n",
    "Newdf = Newdf.replace(\"daily or almost every day\", 4)"
   ]
  },
  {
   "cell_type": "code",
   "execution_count": 51,
   "metadata": {},
   "outputs": [
    {
     "data": {
      "text/html": [
       "<div>\n",
       "<style scoped>\n",
       "    .dataframe tbody tr th:only-of-type {\n",
       "        vertical-align: middle;\n",
       "    }\n",
       "\n",
       "    .dataframe tbody tr th {\n",
       "        vertical-align: top;\n",
       "    }\n",
       "\n",
       "    .dataframe thead th {\n",
       "        text-align: right;\n",
       "    }\n",
       "</style>\n",
       "<table border=\"1\" class=\"dataframe\">\n",
       "  <thead>\n",
       "    <tr style=\"text-align: right;\">\n",
       "      <th></th>\n",
       "      <th>33 : How much time on average do you spend on a computer per day?</th>\n",
       "      <th>34 : How much time on average do you spend outside per day?</th>\n",
       "      <th>35 : How many times do you exercise on average per week?</th>\n",
       "      <th>36 : How many times on average do you skip a meal to be productive per week?</th>\n",
       "    </tr>\n",
       "  </thead>\n",
       "  <tbody>\n",
       "    <tr>\n",
       "      <th>33 : How much time on average do you spend on a computer per day?</th>\n",
       "      <td>1.000000</td>\n",
       "      <td>0.012485</td>\n",
       "      <td>-0.009185</td>\n",
       "      <td>0.087797</td>\n",
       "    </tr>\n",
       "    <tr>\n",
       "      <th>34 : How much time on average do you spend outside per day?</th>\n",
       "      <td>0.012485</td>\n",
       "      <td>1.000000</td>\n",
       "      <td>0.186943</td>\n",
       "      <td>-0.096582</td>\n",
       "    </tr>\n",
       "    <tr>\n",
       "      <th>35 : How many times do you exercise on average per week?</th>\n",
       "      <td>-0.009185</td>\n",
       "      <td>0.186943</td>\n",
       "      <td>1.000000</td>\n",
       "      <td>-0.062128</td>\n",
       "    </tr>\n",
       "    <tr>\n",
       "      <th>36 : How many times on average do you skip a meal to be productive per week?</th>\n",
       "      <td>0.087797</td>\n",
       "      <td>-0.096582</td>\n",
       "      <td>-0.062128</td>\n",
       "      <td>1.000000</td>\n",
       "    </tr>\n",
       "  </tbody>\n",
       "</table>\n",
       "</div>"
      ],
      "text/plain": [
       "                                                    33 : How much time on average do you spend on a computer per day?  \\\n",
       "33 : How much time on average do you spend on a...                                           1.000000                   \n",
       "34 : How much time on average do you spend outs...                                           0.012485                   \n",
       "35 : How many times do you exercise on average ...                                          -0.009185                   \n",
       "36 : How many times on average do you skip a me...                                           0.087797                   \n",
       "\n",
       "                                                    34 : How much time on average do you spend outside per day?  \\\n",
       "33 : How much time on average do you spend on a...                                           0.012485             \n",
       "34 : How much time on average do you spend outs...                                           1.000000             \n",
       "35 : How many times do you exercise on average ...                                           0.186943             \n",
       "36 : How many times on average do you skip a me...                                          -0.096582             \n",
       "\n",
       "                                                    35 : How many times do you exercise on average per week?  \\\n",
       "33 : How much time on average do you spend on a...                                          -0.009185          \n",
       "34 : How much time on average do you spend outs...                                           0.186943          \n",
       "35 : How many times do you exercise on average ...                                           1.000000          \n",
       "36 : How many times on average do you skip a me...                                          -0.062128          \n",
       "\n",
       "                                                    36 : How many times on average do you skip a meal to be productive per week?  \n",
       "33 : How much time on average do you spend on a...                                           0.087797                             \n",
       "34 : How much time on average do you spend outs...                                          -0.096582                             \n",
       "35 : How many times do you exercise on average ...                                          -0.062128                             \n",
       "36 : How many times on average do you skip a me...                                           1.000000                             "
      ]
     },
     "execution_count": 51,
     "metadata": {},
     "output_type": "execute_result"
    }
   ],
   "source": [
    "Newdf = Newdf.replace('nan', np.nan)\n",
    "Wellbeingdata = Newdf.iloc[:, -10:-6]\n",
    "Wellbeingdata.corr('pearson')"
   ]
  },
  {
   "cell_type": "code",
   "execution_count": 52,
   "metadata": {},
   "outputs": [],
   "source": [
    "# Write a function to calculate mean wellbeing indexes for department"
   ]
  },
  {
   "cell_type": "code",
   "execution_count": 53,
   "metadata": {},
   "outputs": [],
   "source": [
    "def wbdepartment(department):\n",
    "    return Newdf.loc[Newdf['1 : Where do you work within the Met Office hierarchy? - What department do you work in (eg. Technology, Science)?'] == department].iloc[:, -10:-6].mean().to_frame(department)"
   ]
  },
  {
   "cell_type": "code",
   "execution_count": 54,
   "metadata": {},
   "outputs": [
    {
     "data": {
      "text/html": [
       "<div>\n",
       "<style scoped>\n",
       "    .dataframe tbody tr th:only-of-type {\n",
       "        vertical-align: middle;\n",
       "    }\n",
       "\n",
       "    .dataframe tbody tr th {\n",
       "        vertical-align: top;\n",
       "    }\n",
       "\n",
       "    .dataframe thead th {\n",
       "        text-align: right;\n",
       "    }\n",
       "</style>\n",
       "<table border=\"1\" class=\"dataframe\">\n",
       "  <thead>\n",
       "    <tr style=\"text-align: right;\">\n",
       "      <th></th>\n",
       "      <th>33 : How much time on average do you spend on a computer per day?</th>\n",
       "      <th>34 : How much time on average do you spend outside per day?</th>\n",
       "      <th>35 : How many times do you exercise on average per week?</th>\n",
       "      <th>36 : How many times on average do you skip a meal to be productive per week?</th>\n",
       "    </tr>\n",
       "  </thead>\n",
       "  <tbody>\n",
       "    <tr>\n",
       "      <th>technology</th>\n",
       "      <td>7.669118</td>\n",
       "      <td>1.3125</td>\n",
       "      <td>2.492537</td>\n",
       "      <td>0.373134</td>\n",
       "    </tr>\n",
       "    <tr>\n",
       "      <th>science</th>\n",
       "      <td>7.780000</td>\n",
       "      <td>1.2000</td>\n",
       "      <td>2.720000</td>\n",
       "      <td>0.280000</td>\n",
       "    </tr>\n",
       "    <tr>\n",
       "      <th>others</th>\n",
       "      <td>NaN</td>\n",
       "      <td>NaN</td>\n",
       "      <td>NaN</td>\n",
       "      <td>NaN</td>\n",
       "    </tr>\n",
       "  </tbody>\n",
       "</table>\n",
       "</div>"
      ],
      "text/plain": [
       "            33 : How much time on average do you spend on a computer per day?  \\\n",
       "technology                                           7.669118                   \n",
       "science                                              7.780000                   \n",
       "others                                                    NaN                   \n",
       "\n",
       "            34 : How much time on average do you spend outside per day?  \\\n",
       "technology                                             1.3125             \n",
       "science                                                1.2000             \n",
       "others                                                    NaN             \n",
       "\n",
       "            35 : How many times do you exercise on average per week?  \\\n",
       "technology                                           2.492537          \n",
       "science                                              2.720000          \n",
       "others                                                    NaN          \n",
       "\n",
       "            36 : How many times on average do you skip a meal to be productive per week?  \n",
       "technology                                           0.373134                             \n",
       "science                                              0.280000                             \n",
       "others                                                    NaN                             "
      ]
     },
     "execution_count": 54,
     "metadata": {},
     "output_type": "execute_result"
    }
   ],
   "source": [
    "technology_wb = wbdepartment('technology')\n",
    "science_wb = wbdepartment('science')\n",
    "others_wb = wbdepartment('others')\n",
    "compare_wellbeing = pd.concat([technology_wb, science_wb, others_wb], axis=1)\n",
    "compare_wellbeing = pd.DataFrame.transpose(compare_wellbeing)\n",
    "compare_wellbeing"
   ]
  },
  {
   "cell_type": "code",
   "execution_count": 55,
   "metadata": {},
   "outputs": [
    {
     "data": {
      "image/png": "[encoded data removed]",
      "text/plain": [
       "<Figure size 1080x720 with 1 Axes>"
      ]
     },
     "metadata": {},
     "output_type": "display_data"
    }
   ],
   "source": [
    "plot_dataframe(compare_wellbeing, 'Wellbeing indices')"
   ]
  },
  {
   "cell_type": "code",
   "execution_count": 56,
   "metadata": {},
   "outputs": [],
   "source": [
    "Newdf.rename(index=str, columns = {'27 : Have you taken part in any other forms of education? Taught yourself a new skill without taking a formal course': \"Taught yourself a new skill without taking a formal course\",'27 : Have you taken part in any other forms of education? Taken an online course': 'Taken an online course','27 : Have you taken part in any other forms of education? Received on the job training': 'Received on the job training','27 : Have you taken part in any other forms of education? Taken any extracurricular in person course': 'Taken any extracurricular in person course','27 : Have you taken part in any other forms of education? Completed an industry certification programme': 'Completed an industry certification programme','27 : Have you taken part in any other forms of education? I have not taken part in others forms of education': 'I have not taken part in others forms of education','27 : Have you taken part in any other forms of education? Other, please specify': 'Other','27 : Have you taken part in any other forms of education? Other, please specifycomment': 'Specified other'}, inplace=True)"
   ]
  },
  {
   "cell_type": "code",
   "execution_count": 57,
   "metadata": {},
   "outputs": [],
   "source": [
    "# Other_education = Newdf.iloc[:, -43:-35]\n",
    "# Other_education.columns = [\"Taught yourself a new skill without taking a formal course\", \"Taken an online course\", \"Received on the job training\", \"Taken any extracurricular in person course\", \"Completed an industry certification programme\", \"I have not taken part in others forms of education\", \"Other\", \"Specified other\"]"
   ]
  },
  {
   "cell_type": "code",
   "execution_count": 58,
   "metadata": {},
   "outputs": [],
   "source": [
    "Overall_other_education_summary = {}"
   ]
  },
  {
   "cell_type": "code",
   "execution_count": 59,
   "metadata": {},
   "outputs": [],
   "source": [
    "def get_number_of_methods(column):\n",
    "    length = len(Newdf.loc[Newdf[column] == \"yes\"])\n",
    "    Overall_other_education_summary[column] = length"
   ]
  },
  {
   "cell_type": "code",
   "execution_count": 60,
   "metadata": {},
   "outputs": [],
   "source": [
    "for column in Newdf.iloc[:, -43:-36].columns:\n",
    "    get_number_of_methods(column)"
   ]
  },
  {
   "cell_type": "code",
   "execution_count": 61,
   "metadata": {},
   "outputs": [],
   "source": [
    "Overall_other_education_summary = pd.DataFrame.from_dict(Overall_other_education_summary, orient='index')"
   ]
  },
  {
   "cell_type": "code",
   "execution_count": 62,
   "metadata": {},
   "outputs": [
    {
     "data": {
      "text/html": [
       "<div>\n",
       "<style scoped>\n",
       "    .dataframe tbody tr th:only-of-type {\n",
       "        vertical-align: middle;\n",
       "    }\n",
       "\n",
       "    .dataframe tbody tr th {\n",
       "        vertical-align: top;\n",
       "    }\n",
       "\n",
       "    .dataframe thead th {\n",
       "        text-align: right;\n",
       "    }\n",
       "</style>\n",
       "<table border=\"1\" class=\"dataframe\">\n",
       "  <thead>\n",
       "    <tr style=\"text-align: right;\">\n",
       "      <th></th>\n",
       "      <th>0</th>\n",
       "    </tr>\n",
       "  </thead>\n",
       "  <tbody>\n",
       "    <tr>\n",
       "      <th>Taught yourself a new skill without taking a formal course</th>\n",
       "      <td>80</td>\n",
       "    </tr>\n",
       "    <tr>\n",
       "      <th>Taken an online course</th>\n",
       "      <td>60</td>\n",
       "    </tr>\n",
       "    <tr>\n",
       "      <th>Received on the job training</th>\n",
       "      <td>71</td>\n",
       "    </tr>\n",
       "    <tr>\n",
       "      <th>Taken any extracurricular in person course</th>\n",
       "      <td>23</td>\n",
       "    </tr>\n",
       "    <tr>\n",
       "      <th>Completed an industry certification programme</th>\n",
       "      <td>28</td>\n",
       "    </tr>\n",
       "    <tr>\n",
       "      <th>I have not taken part in others forms of education</th>\n",
       "      <td>1</td>\n",
       "    </tr>\n",
       "    <tr>\n",
       "      <th>Other</th>\n",
       "      <td>3</td>\n",
       "    </tr>\n",
       "  </tbody>\n",
       "</table>\n",
       "</div>"
      ],
      "text/plain": [
       "                                                     0\n",
       "Taught yourself a new skill without taking a fo...  80\n",
       "Taken an online course                              60\n",
       "Received on the job training                        71\n",
       "Taken any extracurricular in person course          23\n",
       "Completed an industry certification programme       28\n",
       "I have not taken part in others forms of education   1\n",
       "Other                                                3"
      ]
     },
     "execution_count": 62,
     "metadata": {},
     "output_type": "execute_result"
    }
   ],
   "source": [
    "Overall_other_education_summary"
   ]
  },
  {
   "cell_type": "code",
   "execution_count": 63,
   "metadata": {},
   "outputs": [],
   "source": [
    "Overall_other_education_summary.columns = ['']"
   ]
  },
  {
   "cell_type": "code",
   "execution_count": 75,
   "metadata": {},
   "outputs": [
    {
     "data": {
      "image/png": "[encoded data removed]",
      "text/plain": [
       "<Figure size 1080x720 with 1 Axes>"
      ]
     },
     "metadata": {},
     "output_type": "display_data"
    }
   ],
   "source": [
    "plot_1way(Overall_other_education_summary, 'Overall other forms of education - summary')"
   ]
  },
  {
   "cell_type": "code",
   "execution_count": 78,
   "metadata": {},
   "outputs": [],
   "source": [
    "def get_specific_other_education(department):    \n",
    "    specificdict = {} \n",
    "    tempdf = Newdf.loc[Newdf['1 : Where do you work within the Met Office hierarchy? - What department do you work in (eg. Technology, Science)?'] == department]\n",
    "    for column in Newdf.iloc[:, -43:-36].columns:\n",
    "        length = len(tempdf.loc[tempdf[column] == \"yes\"])  \n",
    "        specificdict[column] = length\n",
    "    return specificdict\n",
    "        "
   ]
  },
  {
   "cell_type": "code",
   "execution_count": 79,
   "metadata": {},
   "outputs": [
    {
     "data": {
      "text/html": [
       "<div>\n",
       "<style scoped>\n",
       "    .dataframe tbody tr th:only-of-type {\n",
       "        vertical-align: middle;\n",
       "    }\n",
       "\n",
       "    .dataframe tbody tr th {\n",
       "        vertical-align: top;\n",
       "    }\n",
       "\n",
       "    .dataframe thead th {\n",
       "        text-align: right;\n",
       "    }\n",
       "</style>\n",
       "<table border=\"1\" class=\"dataframe\">\n",
       "  <thead>\n",
       "    <tr style=\"text-align: right;\">\n",
       "      <th></th>\n",
       "      <th>technology</th>\n",
       "      <th>science</th>\n",
       "      <th>others</th>\n",
       "    </tr>\n",
       "  </thead>\n",
       "  <tbody>\n",
       "    <tr>\n",
       "      <th>Completed an industry certification programme</th>\n",
       "      <td>23</td>\n",
       "      <td>4</td>\n",
       "      <td>1</td>\n",
       "    </tr>\n",
       "    <tr>\n",
       "      <th>I have not taken part in others forms of education</th>\n",
       "      <td>0</td>\n",
       "      <td>1</td>\n",
       "      <td>0</td>\n",
       "    </tr>\n",
       "    <tr>\n",
       "      <th>Other</th>\n",
       "      <td>3</td>\n",
       "      <td>0</td>\n",
       "      <td>0</td>\n",
       "    </tr>\n",
       "    <tr>\n",
       "      <th>Received on the job training</th>\n",
       "      <td>49</td>\n",
       "      <td>20</td>\n",
       "      <td>2</td>\n",
       "    </tr>\n",
       "    <tr>\n",
       "      <th>Taken an online course</th>\n",
       "      <td>48</td>\n",
       "      <td>11</td>\n",
       "      <td>1</td>\n",
       "    </tr>\n",
       "    <tr>\n",
       "      <th>Taken any extracurricular in person course</th>\n",
       "      <td>17</td>\n",
       "      <td>5</td>\n",
       "      <td>1</td>\n",
       "    </tr>\n",
       "    <tr>\n",
       "      <th>Taught yourself a new skill without taking a formal course</th>\n",
       "      <td>55</td>\n",
       "      <td>23</td>\n",
       "      <td>2</td>\n",
       "    </tr>\n",
       "  </tbody>\n",
       "</table>\n",
       "</div>"
      ],
      "text/plain": [
       "                                                    technology  science  \\\n",
       "Completed an industry certification programme               23        4   \n",
       "I have not taken part in others forms of education           0        1   \n",
       "Other                                                        3        0   \n",
       "Received on the job training                                49       20   \n",
       "Taken an online course                                      48       11   \n",
       "Taken any extracurricular in person course                  17        5   \n",
       "Taught yourself a new skill without taking a fo...          55       23   \n",
       "\n",
       "                                                    others  \n",
       "Completed an industry certification programme            1  \n",
       "I have not taken part in others forms of education       0  \n",
       "Other                                                    0  \n",
       "Received on the job training                             2  \n",
       "Taken an online course                                   1  \n",
       "Taken any extracurricular in person course               1  \n",
       "Taught yourself a new skill without taking a fo...       2  "
      ]
     },
     "execution_count": 79,
     "metadata": {},
     "output_type": "execute_result"
    }
   ],
   "source": [
    "technologydict = get_specific_other_education('technology')\n",
    "technologyframe = pd.DataFrame.from_dict(technologydict, orient='index')\n",
    "sciencedict = get_specific_other_education('science')\n",
    "scienceframe = pd.DataFrame.from_dict(sciencedict, orient='index')\n",
    "otherdict = get_specific_other_education('other')\n",
    "otherframe = pd.DataFrame.from_dict(otherdict, orient='index')\n",
    "othereducationdict = {'technology': technologydict, 'science': sciencedict, 'others': otherdict}\n",
    "othereducationframe = pd.DataFrame.from_dict(othereducationdict)\n",
    "othereducationframe"
   ]
  },
  {
   "cell_type": "code",
   "execution_count": 80,
   "metadata": {},
   "outputs": [
    {
     "data": {
      "image/png": "[encoded data removed]",
      "text/plain": [
       "<Figure size 1080x720 with 1 Axes>"
      ]
     },
     "metadata": {},
     "output_type": "display_data"
    }
   ],
   "source": [
    "plot_stacked(othereducationframe, 'Other forms of education - department')"
   ]
  },
  {
   "cell_type": "code",
   "execution_count": 84,
   "metadata": {},
   "outputs": [],
   "source": [
    "Newdf.rename(index=str, columns = {'28 : Do you use any of these methods to learn independently of formal training? The official documentation and/or standards for the technology': \"The official documentation and/or standards for the technology\", '28 : Do you use any of these methods to learn independently of formal training? A book or e-book': \"A book or e-book\", '28 : Do you use any of these methods to learn independently of formal training? Internal Met Office documentation or Yammer':\"Internal Met Office documentation or Yammer\", '28 : Do you use any of these methods to learn independently of formal training? External online communities': \"External online communities\", \"28 : Do you use any of these methods to learn independently of formal training? The technology's online help system\": \"The technology's online help system\", '28 : Do you use any of these methods to learn independently of formal training? Tapping your network of friends and peers versed in the technology': \"Tapping your network of friends and peers versed in the technology\", '28 : Do you use any of these methods to learn independently of formal training? Pre-scheduled tutoring or mentoring sessions with a colleague': \"Pre-scheduled tutoring or mentoring sessions with a colleague\", \"28 : Do you use any of these methods to learn independently of formal training? I don't use methods to learn independent of formal training\": \"I don't use methods to learn independent of formal training\", '28 : Do you use any of these methods to learn independently of formal training? Other, please specify': \"Other independent learning or formal training\", '28 : Do you use any of these methods to learn independently of formal training? Other, please specifycomment': \"Specified other independent learning or formal training\"}, inplace=True)"
   ]
  },
  {
   "cell_type": "code",
   "execution_count": 92,
   "metadata": {},
   "outputs": [
    {
     "data": {
      "text/plain": [
       "['Specified other',\n",
       " 'The official documentation and/or standards for the technology',\n",
       " 'A book or e-book',\n",
       " 'Internal Met Office documentation or Yammer',\n",
       " 'External online communities',\n",
       " \"The technology's online help system\",\n",
       " 'Tapping your network of friends and peers versed in the technology',\n",
       " 'Pre-scheduled tutoring or mentoring sessions with a colleague',\n",
       " \"I don't use methods to learn independent of formal training\",\n",
       " 'Other independent learning or formal training']"
      ]
     },
     "execution_count": 92,
     "metadata": {},
     "output_type": "execute_result"
    }
   ],
   "source": [
    "list(Newdf.iloc[:, -36:-26].columns)"
   ]
  },
  {
   "cell_type": "code",
   "execution_count": 95,
   "metadata": {},
   "outputs": [],
   "source": [
    "def get_specific_other_learning(department):    \n",
    "    specificdict = {} \n",
    "    tempdf = Newdf.loc[Newdf['1 : Where do you work within the Met Office hierarchy? - What department do you work in (eg. Technology, Science)?'] == department]\n",
    "    for column in list(Newdf.iloc[:, -35:-26].columns):\n",
    "        length = len(tempdf.loc[tempdf[column] == \"yes\"])  \n",
    "        specificdict[column] = length\n",
    "    return specificdict"
   ]
  },
  {
   "cell_type": "code",
   "execution_count": 96,
   "metadata": {},
   "outputs": [
    {
     "data": {
      "text/html": [
       "<div>\n",
       "<style scoped>\n",
       "    .dataframe tbody tr th:only-of-type {\n",
       "        vertical-align: middle;\n",
       "    }\n",
       "\n",
       "    .dataframe tbody tr th {\n",
       "        vertical-align: top;\n",
       "    }\n",
       "\n",
       "    .dataframe thead th {\n",
       "        text-align: right;\n",
       "    }\n",
       "</style>\n",
       "<table border=\"1\" class=\"dataframe\">\n",
       "  <thead>\n",
       "    <tr style=\"text-align: right;\">\n",
       "      <th></th>\n",
       "      <th>technology</th>\n",
       "      <th>science</th>\n",
       "      <th>others</th>\n",
       "    </tr>\n",
       "  </thead>\n",
       "  <tbody>\n",
       "    <tr>\n",
       "      <th>A book or e-book</th>\n",
       "      <td>42</td>\n",
       "      <td>16</td>\n",
       "      <td>2</td>\n",
       "    </tr>\n",
       "    <tr>\n",
       "      <th>External online communities</th>\n",
       "      <td>48</td>\n",
       "      <td>20</td>\n",
       "      <td>1</td>\n",
       "    </tr>\n",
       "    <tr>\n",
       "      <th>I don't use methods to learn independent of formal training</th>\n",
       "      <td>0</td>\n",
       "      <td>0</td>\n",
       "      <td>0</td>\n",
       "    </tr>\n",
       "    <tr>\n",
       "      <th>Internal Met Office documentation or Yammer</th>\n",
       "      <td>37</td>\n",
       "      <td>17</td>\n",
       "      <td>2</td>\n",
       "    </tr>\n",
       "    <tr>\n",
       "      <th>Other independent learning or formal training</th>\n",
       "      <td>4</td>\n",
       "      <td>0</td>\n",
       "      <td>0</td>\n",
       "    </tr>\n",
       "    <tr>\n",
       "      <th>Pre-scheduled tutoring or mentoring sessions with a colleague</th>\n",
       "      <td>12</td>\n",
       "      <td>2</td>\n",
       "      <td>1</td>\n",
       "    </tr>\n",
       "    <tr>\n",
       "      <th>Tapping your network of friends and peers versed in the technology</th>\n",
       "      <td>50</td>\n",
       "      <td>20</td>\n",
       "      <td>2</td>\n",
       "    </tr>\n",
       "    <tr>\n",
       "      <th>The official documentation and/or standards for the technology</th>\n",
       "      <td>56</td>\n",
       "      <td>22</td>\n",
       "      <td>2</td>\n",
       "    </tr>\n",
       "    <tr>\n",
       "      <th>The technology's online help system</th>\n",
       "      <td>49</td>\n",
       "      <td>18</td>\n",
       "      <td>2</td>\n",
       "    </tr>\n",
       "  </tbody>\n",
       "</table>\n",
       "</div>"
      ],
      "text/plain": [
       "                                                    technology  science  \\\n",
       "A book or e-book                                            42       16   \n",
       "External online communities                                 48       20   \n",
       "I don't use methods to learn independent of for...           0        0   \n",
       "Internal Met Office documentation or Yammer                 37       17   \n",
       "Other independent learning or formal training                4        0   \n",
       "Pre-scheduled tutoring or mentoring sessions wi...          12        2   \n",
       "Tapping your network of friends and peers verse...          50       20   \n",
       "The official documentation and/or standards for...          56       22   \n",
       "The technology's online help system                         49       18   \n",
       "\n",
       "                                                    others  \n",
       "A book or e-book                                         2  \n",
       "External online communities                              1  \n",
       "I don't use methods to learn independent of for...       0  \n",
       "Internal Met Office documentation or Yammer              2  \n",
       "Other independent learning or formal training            0  \n",
       "Pre-scheduled tutoring or mentoring sessions wi...       1  \n",
       "Tapping your network of friends and peers verse...       2  \n",
       "The official documentation and/or standards for...       2  \n",
       "The technology's online help system                      2  "
      ]
     },
     "execution_count": 96,
     "metadata": {},
     "output_type": "execute_result"
    }
   ],
   "source": [
    "technologydict1 = get_specific_other_learning('technology')\n",
    "technologyframe1 = pd.DataFrame.from_dict(technologydict1, orient='index')\n",
    "sciencedict1 = get_specific_other_learning('science')\n",
    "scienceframe1 = pd.DataFrame.from_dict(sciencedict1, orient='index')\n",
    "otherdict1 = get_specific_other_learning('other')\n",
    "otherframe1 = pd.DataFrame.from_dict(otherdict1, orient='index')\n",
    "otherlearningdict = {'technology': technologydict1, 'science': sciencedict1, 'others': otherdict1}\n",
    "otherlearningframe = pd.DataFrame.from_dict(otherlearningdict)\n",
    "otherlearningframe"
   ]
  },
  {
   "cell_type": "code",
   "execution_count": 98,
   "metadata": {},
   "outputs": [
    {
     "data": {
      "image/png": "[encoded data removed]",
      "text/plain": [
       "<Figure size 1080x720 with 1 Axes>"
      ]
     },
     "metadata": {},
     "output_type": "display_data"
    }
   ],
   "source": [
    "plot_stacked(otherlearningframe, 'Do you use any of these methods to learn independently of formal training?')"
   ]
  },
  {
   "cell_type": "code",
   "execution_count": null,
   "metadata": {},
   "outputs": [],
   "source": []
  }
 ],
 "metadata": {
  "kernelspec": {
   "display_name": "Python [default]",
   "language": "python",
   "name": "python3"
  },
  "language_info": {
   "codemirror_mode": {
    "name": "ipython",
    "version": 3
   },
   "file_extension": ".py",
   "mimetype": "text/x-python",
   "name": "python",
   "nbconvert_exporter": "python",
   "pygments_lexer": "ipython3",
   "version": "3.6.3"
  }
 },
 "nbformat": 4,
 "nbformat_minor": 2
}
